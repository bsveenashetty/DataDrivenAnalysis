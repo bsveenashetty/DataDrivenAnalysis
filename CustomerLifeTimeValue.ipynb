{
 "cells": [
  {
   "cell_type": "markdown",
   "source": [
    "https://towardsdatascience.com/data-driven-growth-with-python-part-3-customer-lifetime-value-prediction-6017802f2e0f\n",
    "https://www.datacamp.com/tutorial/customer-life-time-value"
   ],
   "metadata": {
    "collapsed": false
   }
  },
  {
   "cell_type": "markdown",
   "source": [
    "Lifetime Value: Total Gross Revenue - Total Cost"
   ],
   "metadata": {
    "collapsed": false
   }
  },
  {
   "cell_type": "markdown",
   "source": [
    "This equation now gives us the historical lifetime value. If we see some customers having very high negative lifetime value historically, it could be too late to take an action. At this point, we need to predict the future with machine learning:"
   ],
   "metadata": {
    "collapsed": false
   }
  },
  {
   "cell_type": "markdown",
   "source": [
    "Lifetime Value Prediction\n",
    "We will continue using our online retail dataset for this example as well. Let’s identify our path to glory:\n",
    "\n",
    "Define an appropriate time frame for Customer Lifetime Value calculation\n",
    "Identify the features we are going to use to predict future and create them\n",
    "Calculate lifetime value (LTV) for training the machine learning model\n",
    "Build and run the machine learning model\n",
    "Check if the model is useful\n",
    "Deciding the time frame really depends on your industry, business model, strategy and more. For some industries, 1 year is a very long period while for the others it is very short. In our example, we will go ahead with 6 months.\n",
    "\n",
    "RFM scores for each customer ID (which we calculated in the previous article) are the perfect candidates for feature set. To implement it correctly, we need to split our dataset. We will take 3 months of data, calculate RFM and use it for predicting next 6 months. So we need to create two dataframes first and append RFM scores to them."
   ],
   "metadata": {
    "collapsed": false
   }
  },
  {
   "cell_type": "markdown",
   "source": [
    "CLTV Implementation in Python (Using Formula)"
   ],
   "metadata": {
    "collapsed": false
   }
  },
  {
   "cell_type": "markdown",
   "source": [
    "4) Using the following equation: CLTV = ((Average Order Value x Purchase Frequency)/Churn Rate) x Profit margin."
   ],
   "metadata": {
    "collapsed": false
   }
  },
  {
   "cell_type": "markdown",
   "source": [
    "Customer Value = Average Order Value * Purchase Frequency\n",
    "Average Order Value = Total Revenue / Total Number of Orders\n",
    "Purchase Frequency =  Total Number of Orders / Total Number of Customers\n",
    "Customer Lifetime=1/Churn Rate\n",
    "Churn Rate= 1-Repeat Rate\n"
   ],
   "metadata": {
    "collapsed": false
   }
  },
  {
   "cell_type": "code",
   "execution_count": 1,
   "outputs": [],
   "source": [
    "#import modules\n",
    "import pandas as pd # for dataframes\n",
    "import matplotlib.pyplot as plt # for plotting graphs\n",
    "import seaborn as sns # for plotting graphs\n",
    "import datetime as dt\n",
    "import numpy as np\n"
   ],
   "metadata": {
    "collapsed": false
   }
  },
  {
   "cell_type": "code",
   "execution_count": 3,
   "outputs": [],
   "source": [
    "data=pd.read_csv('OnlineRetail.csv',encoding = \"ISO-8859-1\")\n"
   ],
   "metadata": {
    "collapsed": false
   }
  },
  {
   "cell_type": "code",
   "execution_count": 4,
   "outputs": [
    {
     "data": {
      "text/plain": "  InvoiceNo StockCode                          Description  Quantity  \\\n0    536365    85123A   WHITE HANGING HEART T-LIGHT HOLDER         6   \n1    536365     71053                  WHITE METAL LANTERN         6   \n2    536365    84406B       CREAM CUPID HEARTS COAT HANGER         8   \n3    536365    84029G  KNITTED UNION FLAG HOT WATER BOTTLE         6   \n4    536365    84029E       RED WOOLLY HOTTIE WHITE HEART.         6   \n\n      InvoiceDate  UnitPrice  CustomerID         Country  \n0  12/1/2010 8:26       2.55     17850.0  United Kingdom  \n1  12/1/2010 8:26       3.39     17850.0  United Kingdom  \n2  12/1/2010 8:26       2.75     17850.0  United Kingdom  \n3  12/1/2010 8:26       3.39     17850.0  United Kingdom  \n4  12/1/2010 8:26       3.39     17850.0  United Kingdom  ",
      "text/html": "<div>\n<style scoped>\n    .dataframe tbody tr th:only-of-type {\n        vertical-align: middle;\n    }\n\n    .dataframe tbody tr th {\n        vertical-align: top;\n    }\n\n    .dataframe thead th {\n        text-align: right;\n    }\n</style>\n<table border=\"1\" class=\"dataframe\">\n  <thead>\n    <tr style=\"text-align: right;\">\n      <th></th>\n      <th>InvoiceNo</th>\n      <th>StockCode</th>\n      <th>Description</th>\n      <th>Quantity</th>\n      <th>InvoiceDate</th>\n      <th>UnitPrice</th>\n      <th>CustomerID</th>\n      <th>Country</th>\n    </tr>\n  </thead>\n  <tbody>\n    <tr>\n      <th>0</th>\n      <td>536365</td>\n      <td>85123A</td>\n      <td>WHITE HANGING HEART T-LIGHT HOLDER</td>\n      <td>6</td>\n      <td>12/1/2010 8:26</td>\n      <td>2.55</td>\n      <td>17850.0</td>\n      <td>United Kingdom</td>\n    </tr>\n    <tr>\n      <th>1</th>\n      <td>536365</td>\n      <td>71053</td>\n      <td>WHITE METAL LANTERN</td>\n      <td>6</td>\n      <td>12/1/2010 8:26</td>\n      <td>3.39</td>\n      <td>17850.0</td>\n      <td>United Kingdom</td>\n    </tr>\n    <tr>\n      <th>2</th>\n      <td>536365</td>\n      <td>84406B</td>\n      <td>CREAM CUPID HEARTS COAT HANGER</td>\n      <td>8</td>\n      <td>12/1/2010 8:26</td>\n      <td>2.75</td>\n      <td>17850.0</td>\n      <td>United Kingdom</td>\n    </tr>\n    <tr>\n      <th>3</th>\n      <td>536365</td>\n      <td>84029G</td>\n      <td>KNITTED UNION FLAG HOT WATER BOTTLE</td>\n      <td>6</td>\n      <td>12/1/2010 8:26</td>\n      <td>3.39</td>\n      <td>17850.0</td>\n      <td>United Kingdom</td>\n    </tr>\n    <tr>\n      <th>4</th>\n      <td>536365</td>\n      <td>84029E</td>\n      <td>RED WOOLLY HOTTIE WHITE HEART.</td>\n      <td>6</td>\n      <td>12/1/2010 8:26</td>\n      <td>3.39</td>\n      <td>17850.0</td>\n      <td>United Kingdom</td>\n    </tr>\n  </tbody>\n</table>\n</div>"
     },
     "execution_count": 4,
     "metadata": {},
     "output_type": "execute_result"
    }
   ],
   "source": [
    "data.head()"
   ],
   "metadata": {
    "collapsed": false
   }
  },
  {
   "cell_type": "code",
   "execution_count": 5,
   "outputs": [],
   "source": [
    "filtered_data=data[['Country','CustomerID']].drop_duplicates()\n"
   ],
   "metadata": {
    "collapsed": false
   }
  },
  {
   "cell_type": "code",
   "execution_count": 6,
   "outputs": [
    {
     "data": {
      "text/plain": "<AxesSubplot:>"
     },
     "execution_count": 6,
     "metadata": {},
     "output_type": "execute_result"
    },
    {
     "data": {
      "text/plain": "<Figure size 432x288 with 1 Axes>",
      "image/png": "[encoded data removed]"
     },
     "metadata": {},
     "output_type": "display_data"
    }
   ],
   "source": [
    "#Top ten country's customer\n",
    "filtered_data.Country.value_counts()[:10].plot(kind='bar')\n"
   ],
   "metadata": {
    "collapsed": false
   }
  },
  {
   "cell_type": "code",
   "execution_count": 7,
   "outputs": [
    {
     "name": "stdout",
     "output_type": "stream",
     "text": [
      "<class 'pandas.core.frame.DataFrame'>\n",
      "Int64Index: 495478 entries, 0 to 541893\n",
      "Data columns (total 8 columns):\n",
      " #   Column       Non-Null Count   Dtype  \n",
      "---  ------       --------------   -----  \n",
      " 0   InvoiceNo    495478 non-null  object \n",
      " 1   StockCode    495478 non-null  object \n",
      " 2   Description  494024 non-null  object \n",
      " 3   Quantity     495478 non-null  int64  \n",
      " 4   InvoiceDate  495478 non-null  object \n",
      " 5   UnitPrice    495478 non-null  float64\n",
      " 6   CustomerID   361878 non-null  float64\n",
      " 7   Country      495478 non-null  object \n",
      "dtypes: float64(2), int64(1), object(5)\n",
      "memory usage: 34.0+ MB\n"
     ]
    }
   ],
   "source": [
    "uk_data=data[data.Country=='United Kingdom']\n",
    "uk_data.info()\n"
   ],
   "metadata": {
    "collapsed": false
   }
  },
  {
   "cell_type": "code",
   "execution_count": 8,
   "outputs": [
    {
     "data": {
      "text/plain": "            Quantity      UnitPrice     CustomerID\ncount  495478.000000  495478.000000  361878.000000\nmean        8.605486       4.532422   15547.871368\nstd       227.588756      99.315438    1594.402590\nmin    -80995.000000  -11062.060000   12346.000000\n25%         1.000000       1.250000   14194.000000\n50%         3.000000       2.100000   15514.000000\n75%        10.000000       4.130000   16931.000000\nmax     80995.000000   38970.000000   18287.000000",
      "text/html": "<div>\n<style scoped>\n    .dataframe tbody tr th:only-of-type {\n        vertical-align: middle;\n    }\n\n    .dataframe tbody tr th {\n        vertical-align: top;\n    }\n\n    .dataframe thead th {\n        text-align: right;\n    }\n</style>\n<table border=\"1\" class=\"dataframe\">\n  <thead>\n    <tr style=\"text-align: right;\">\n      <th></th>\n      <th>Quantity</th>\n      <th>UnitPrice</th>\n      <th>CustomerID</th>\n    </tr>\n  </thead>\n  <tbody>\n    <tr>\n      <th>count</th>\n      <td>495478.000000</td>\n      <td>495478.000000</td>\n      <td>361878.000000</td>\n    </tr>\n    <tr>\n      <th>mean</th>\n      <td>8.605486</td>\n      <td>4.532422</td>\n      <td>15547.871368</td>\n    </tr>\n    <tr>\n      <th>std</th>\n      <td>227.588756</td>\n      <td>99.315438</td>\n      <td>1594.402590</td>\n    </tr>\n    <tr>\n      <th>min</th>\n      <td>-80995.000000</td>\n      <td>-11062.060000</td>\n      <td>12346.000000</td>\n    </tr>\n    <tr>\n      <th>25%</th>\n      <td>1.000000</td>\n      <td>1.250000</td>\n      <td>14194.000000</td>\n    </tr>\n    <tr>\n      <th>50%</th>\n      <td>3.000000</td>\n      <td>2.100000</td>\n      <td>15514.000000</td>\n    </tr>\n    <tr>\n      <th>75%</th>\n      <td>10.000000</td>\n      <td>4.130000</td>\n      <td>16931.000000</td>\n    </tr>\n    <tr>\n      <th>max</th>\n      <td>80995.000000</td>\n      <td>38970.000000</td>\n      <td>18287.000000</td>\n    </tr>\n  </tbody>\n</table>\n</div>"
     },
     "execution_count": 8,
     "metadata": {},
     "output_type": "execute_result"
    }
   ],
   "source": [
    "uk_data.describe()\n"
   ],
   "metadata": {
    "collapsed": false
   }
  },
  {
   "cell_type": "code",
   "execution_count": 9,
   "outputs": [
    {
     "name": "stdout",
     "output_type": "stream",
     "text": [
      "<class 'pandas.core.frame.DataFrame'>\n",
      "Int64Index: 486286 entries, 0 to 541893\n",
      "Data columns (total 8 columns):\n",
      " #   Column       Non-Null Count   Dtype  \n",
      "---  ------       --------------   -----  \n",
      " 0   InvoiceNo    486286 non-null  object \n",
      " 1   StockCode    486286 non-null  object \n",
      " 2   Description  485694 non-null  object \n",
      " 3   Quantity     486286 non-null  int64  \n",
      " 4   InvoiceDate  486286 non-null  object \n",
      " 5   UnitPrice    486286 non-null  float64\n",
      " 6   CustomerID   354345 non-null  float64\n",
      " 7   Country      486286 non-null  object \n",
      "dtypes: float64(2), int64(1), object(5)\n",
      "memory usage: 33.4+ MB\n"
     ]
    }
   ],
   "source": [
    "uk_data = uk_data[(uk_data['Quantity']>0)]\n",
    "uk_data.info()\n"
   ],
   "metadata": {
    "collapsed": false
   }
  },
  {
   "cell_type": "code",
   "execution_count": 10,
   "outputs": [],
   "source": [
    "uk_data=uk_data[['CustomerID','InvoiceDate','InvoiceNo','Quantity','UnitPrice']]\n"
   ],
   "metadata": {
    "collapsed": false
   }
  },
  {
   "cell_type": "code",
   "execution_count": 11,
   "outputs": [],
   "source": [
    "#Calulate total purchase\n",
    "uk_data['TotalPurchase'] = uk_data['Quantity'] * uk_data['UnitPrice']\n"
   ],
   "metadata": {
    "collapsed": false
   }
  },
  {
   "cell_type": "markdown",
   "source": [
    "Here, you are going to perform the following operations:\n",
    "\n",
    "Calculate the number of days between the present date and the date of last purchase from each customer.\n",
    "Calculate the number of orders for each customer.\n",
    "Calculate sum of purchase price for each customer."
   ],
   "metadata": {
    "collapsed": false
   }
  },
  {
   "cell_type": "code",
   "execution_count": 18,
   "outputs": [],
   "source": [
    "uk_data_group=uk_data.groupby('CustomerID').agg({\n",
    "                                                 'InvoiceNo': lambda num: len(num),\n",
    "                                                 'Quantity': lambda quant: quant.sum(),\n",
    "                                                 'TotalPurchase': lambda price: price.sum(),\n",
    "                                                  'InvoiceDate': lambda date: (date.max()-date.min()).days})\n"
   ],
   "metadata": {
    "collapsed": false
   }
  },
  {
   "cell_type": "code",
   "execution_count": 17,
   "outputs": [],
   "source": [
    "uk_data['InvoiceDate'] = pd.to_datetime(uk_data['InvoiceDate'])"
   ],
   "metadata": {
    "collapsed": false
   }
  },
  {
   "cell_type": "code",
   "execution_count": 19,
   "outputs": [
    {
     "data": {
      "text/plain": "            InvoiceNo  Quantity  TotalPurchase  InvoiceDate\nCustomerID                                                 \n12346.0             1     74215       77183.60            0\n12747.0           103      1275        4196.01          366\n12748.0          4596     25748       33719.73          372\n12749.0           199      1471        4090.88          209\n12820.0            59       722         942.34          323",
      "text/html": "<div>\n<style scoped>\n    .dataframe tbody tr th:only-of-type {\n        vertical-align: middle;\n    }\n\n    .dataframe tbody tr th {\n        vertical-align: top;\n    }\n\n    .dataframe thead th {\n        text-align: right;\n    }\n</style>\n<table border=\"1\" class=\"dataframe\">\n  <thead>\n    <tr style=\"text-align: right;\">\n      <th></th>\n      <th>InvoiceNo</th>\n      <th>Quantity</th>\n      <th>TotalPurchase</th>\n      <th>InvoiceDate</th>\n    </tr>\n    <tr>\n      <th>CustomerID</th>\n      <th></th>\n      <th></th>\n      <th></th>\n      <th></th>\n    </tr>\n  </thead>\n  <tbody>\n    <tr>\n      <th>12346.0</th>\n      <td>1</td>\n      <td>74215</td>\n      <td>77183.60</td>\n      <td>0</td>\n    </tr>\n    <tr>\n      <th>12747.0</th>\n      <td>103</td>\n      <td>1275</td>\n      <td>4196.01</td>\n      <td>366</td>\n    </tr>\n    <tr>\n      <th>12748.0</th>\n      <td>4596</td>\n      <td>25748</td>\n      <td>33719.73</td>\n      <td>372</td>\n    </tr>\n    <tr>\n      <th>12749.0</th>\n      <td>199</td>\n      <td>1471</td>\n      <td>4090.88</td>\n      <td>209</td>\n    </tr>\n    <tr>\n      <th>12820.0</th>\n      <td>59</td>\n      <td>722</td>\n      <td>942.34</td>\n      <td>323</td>\n    </tr>\n  </tbody>\n</table>\n</div>"
     },
     "execution_count": 19,
     "metadata": {},
     "output_type": "execute_result"
    }
   ],
   "source": [
    "uk_data_group.head()\n"
   ],
   "metadata": {
    "collapsed": false
   }
  },
  {
   "cell_type": "code",
   "execution_count": 21,
   "outputs": [
    {
     "data": {
      "text/plain": "            num_transactions  num_units  spent_money  num_days\nCustomerID                                                    \n12346.0                    1      74215     77183.60         0\n12747.0                  103       1275      4196.01       366\n12748.0                 4596      25748     33719.73       372\n12749.0                  199       1471      4090.88       209\n12820.0                   59        722       942.34       323",
      "text/html": "<div>\n<style scoped>\n    .dataframe tbody tr th:only-of-type {\n        vertical-align: middle;\n    }\n\n    .dataframe tbody tr th {\n        vertical-align: top;\n    }\n\n    .dataframe thead th {\n        text-align: right;\n    }\n</style>\n<table border=\"1\" class=\"dataframe\">\n  <thead>\n    <tr style=\"text-align: right;\">\n      <th></th>\n      <th>num_transactions</th>\n      <th>num_units</th>\n      <th>spent_money</th>\n      <th>num_days</th>\n    </tr>\n    <tr>\n      <th>CustomerID</th>\n      <th></th>\n      <th></th>\n      <th></th>\n      <th></th>\n    </tr>\n  </thead>\n  <tbody>\n    <tr>\n      <th>12346.0</th>\n      <td>1</td>\n      <td>74215</td>\n      <td>77183.60</td>\n      <td>0</td>\n    </tr>\n    <tr>\n      <th>12747.0</th>\n      <td>103</td>\n      <td>1275</td>\n      <td>4196.01</td>\n      <td>366</td>\n    </tr>\n    <tr>\n      <th>12748.0</th>\n      <td>4596</td>\n      <td>25748</td>\n      <td>33719.73</td>\n      <td>372</td>\n    </tr>\n    <tr>\n      <th>12749.0</th>\n      <td>199</td>\n      <td>1471</td>\n      <td>4090.88</td>\n      <td>209</td>\n    </tr>\n    <tr>\n      <th>12820.0</th>\n      <td>59</td>\n      <td>722</td>\n      <td>942.34</td>\n      <td>323</td>\n    </tr>\n  </tbody>\n</table>\n</div>"
     },
     "execution_count": 21,
     "metadata": {},
     "output_type": "execute_result"
    }
   ],
   "source": [
    "# Change the name of columns\n",
    "uk_data_group.columns=['num_transactions','num_units','spent_money','num_days']\n",
    "uk_data_group.head()\n"
   ],
   "metadata": {
    "collapsed": false
   }
  },
  {
   "cell_type": "markdown",
   "source": [
    "1. Calculate Average Order Value"
   ],
   "metadata": {
    "collapsed": false
   }
  },
  {
   "cell_type": "code",
   "execution_count": 22,
   "outputs": [],
   "source": [
    "# Average Order Value\n",
    "uk_data_group['avg_order_value']=uk_data_group['spent_money']/uk_data_group['num_transactions']\n"
   ],
   "metadata": {
    "collapsed": false
   }
  },
  {
   "cell_type": "code",
   "execution_count": 23,
   "outputs": [
    {
     "data": {
      "text/plain": "            num_transactions  num_units  spent_money  num_days  \\\nCustomerID                                                       \n12346.0                    1      74215     77183.60         0   \n12747.0                  103       1275      4196.01       366   \n12748.0                 4596      25748     33719.73       372   \n12749.0                  199       1471      4090.88       209   \n12820.0                   59        722       942.34       323   \n\n            avg_order_value  \nCustomerID                   \n12346.0        77183.600000  \n12747.0           40.737961  \n12748.0            7.336756  \n12749.0           20.557186  \n12820.0           15.971864  ",
      "text/html": "<div>\n<style scoped>\n    .dataframe tbody tr th:only-of-type {\n        vertical-align: middle;\n    }\n\n    .dataframe tbody tr th {\n        vertical-align: top;\n    }\n\n    .dataframe thead th {\n        text-align: right;\n    }\n</style>\n<table border=\"1\" class=\"dataframe\">\n  <thead>\n    <tr style=\"text-align: right;\">\n      <th></th>\n      <th>num_transactions</th>\n      <th>num_units</th>\n      <th>spent_money</th>\n      <th>num_days</th>\n      <th>avg_order_value</th>\n    </tr>\n    <tr>\n      <th>CustomerID</th>\n      <th></th>\n      <th></th>\n      <th></th>\n      <th></th>\n      <th></th>\n    </tr>\n  </thead>\n  <tbody>\n    <tr>\n      <th>12346.0</th>\n      <td>1</td>\n      <td>74215</td>\n      <td>77183.60</td>\n      <td>0</td>\n      <td>77183.600000</td>\n    </tr>\n    <tr>\n      <th>12747.0</th>\n      <td>103</td>\n      <td>1275</td>\n      <td>4196.01</td>\n      <td>366</td>\n      <td>40.737961</td>\n    </tr>\n    <tr>\n      <th>12748.0</th>\n      <td>4596</td>\n      <td>25748</td>\n      <td>33719.73</td>\n      <td>372</td>\n      <td>7.336756</td>\n    </tr>\n    <tr>\n      <th>12749.0</th>\n      <td>199</td>\n      <td>1471</td>\n      <td>4090.88</td>\n      <td>209</td>\n      <td>20.557186</td>\n    </tr>\n    <tr>\n      <th>12820.0</th>\n      <td>59</td>\n      <td>722</td>\n      <td>942.34</td>\n      <td>323</td>\n      <td>15.971864</td>\n    </tr>\n  </tbody>\n</table>\n</div>"
     },
     "execution_count": 23,
     "metadata": {},
     "output_type": "execute_result"
    }
   ],
   "source": [
    "uk_data_group.head()\n"
   ],
   "metadata": {
    "collapsed": false
   }
  },
  {
   "cell_type": "markdown",
   "source": [
    "2. Calculate Purchase Frequency"
   ],
   "metadata": {
    "collapsed": false
   }
  },
  {
   "cell_type": "code",
   "execution_count": 24,
   "outputs": [],
   "source": [
    "purchase_frequency=sum(uk_data_group['num_transactions'])/uk_data_group.shape[0]\n"
   ],
   "metadata": {
    "collapsed": false
   }
  },
  {
   "cell_type": "code",
   "execution_count": 29,
   "outputs": [
    {
     "data": {
      "text/plain": "90.37107880642694"
     },
     "execution_count": 29,
     "metadata": {},
     "output_type": "execute_result"
    }
   ],
   "source": [
    "purchase_frequency"
   ],
   "metadata": {
    "collapsed": false
   }
  },
  {
   "cell_type": "markdown",
   "source": [
    "3. Calculate Repeat Rate and Churn Rate"
   ],
   "metadata": {
    "collapsed": false
   }
  },
  {
   "cell_type": "code",
   "execution_count": 27,
   "outputs": [],
   "source": [
    "# Repeat Rate\n",
    "repeat_rate=uk_data_group[uk_data_group.num_transactions > 1].shape[0]/uk_data_group.shape[0]\n"
   ],
   "metadata": {
    "collapsed": false
   }
  },
  {
   "cell_type": "code",
   "execution_count": 28,
   "outputs": [
    {
     "data": {
      "text/plain": "0.9818923743942872"
     },
     "execution_count": 28,
     "metadata": {},
     "output_type": "execute_result"
    }
   ],
   "source": [
    "repeat_rate"
   ],
   "metadata": {
    "collapsed": false
   }
  },
  {
   "cell_type": "code",
   "execution_count": 30,
   "outputs": [],
   "source": [
    "#Churn Rate\n",
    "churn_rate=1-repeat_rate\n"
   ],
   "metadata": {
    "collapsed": false
   }
  },
  {
   "cell_type": "code",
   "execution_count": 31,
   "outputs": [
    {
     "data": {
      "text/plain": "0.018107625605712774"
     },
     "execution_count": 31,
     "metadata": {},
     "output_type": "execute_result"
    }
   ],
   "source": [
    "churn_rate"
   ],
   "metadata": {
    "collapsed": false
   }
  },
  {
   "cell_type": "code",
   "execution_count": 32,
   "outputs": [
    {
     "data": {
      "text/plain": "(90.37107880642694, 0.9818923743942872, 0.018107625605712774)"
     },
     "execution_count": 32,
     "metadata": {},
     "output_type": "execute_result"
    }
   ],
   "source": [
    "purchase_frequency,repeat_rate,churn_rate"
   ],
   "metadata": {
    "collapsed": false
   }
  },
  {
   "cell_type": "markdown",
   "source": [
    "4. Calculate Profit Margin\n",
    "Profit margin is the commonly used profitability ratio. It represents how much percentage of total sales has earned as the gain. Let's assume our business has approx 5% profit on the total sale."
   ],
   "metadata": {
    "collapsed": false
   }
  },
  {
   "cell_type": "code",
   "execution_count": 33,
   "outputs": [],
   "source": [
    "# Profit Margin\n",
    "uk_data_group['profit_margin']=uk_data_group['spent_money']*0.05\n"
   ],
   "metadata": {
    "collapsed": false
   }
  },
  {
   "cell_type": "code",
   "execution_count": 34,
   "outputs": [
    {
     "data": {
      "text/plain": "            num_transactions  num_units  spent_money  num_days  \\\nCustomerID                                                       \n12346.0                    1      74215     77183.60         0   \n12747.0                  103       1275      4196.01       366   \n12748.0                 4596      25748     33719.73       372   \n12749.0                  199       1471      4090.88       209   \n12820.0                   59        722       942.34       323   \n\n            avg_order_value  profit_margin  \nCustomerID                                  \n12346.0        77183.600000      3859.1800  \n12747.0           40.737961       209.8005  \n12748.0            7.336756      1685.9865  \n12749.0           20.557186       204.5440  \n12820.0           15.971864        47.1170  ",
      "text/html": "<div>\n<style scoped>\n    .dataframe tbody tr th:only-of-type {\n        vertical-align: middle;\n    }\n\n    .dataframe tbody tr th {\n        vertical-align: top;\n    }\n\n    .dataframe thead th {\n        text-align: right;\n    }\n</style>\n<table border=\"1\" class=\"dataframe\">\n  <thead>\n    <tr style=\"text-align: right;\">\n      <th></th>\n      <th>num_transactions</th>\n      <th>num_units</th>\n      <th>spent_money</th>\n      <th>num_days</th>\n      <th>avg_order_value</th>\n      <th>profit_margin</th>\n    </tr>\n    <tr>\n      <th>CustomerID</th>\n      <th></th>\n      <th></th>\n      <th></th>\n      <th></th>\n      <th></th>\n      <th></th>\n    </tr>\n  </thead>\n  <tbody>\n    <tr>\n      <th>12346.0</th>\n      <td>1</td>\n      <td>74215</td>\n      <td>77183.60</td>\n      <td>0</td>\n      <td>77183.600000</td>\n      <td>3859.1800</td>\n    </tr>\n    <tr>\n      <th>12747.0</th>\n      <td>103</td>\n      <td>1275</td>\n      <td>4196.01</td>\n      <td>366</td>\n      <td>40.737961</td>\n      <td>209.8005</td>\n    </tr>\n    <tr>\n      <th>12748.0</th>\n      <td>4596</td>\n      <td>25748</td>\n      <td>33719.73</td>\n      <td>372</td>\n      <td>7.336756</td>\n      <td>1685.9865</td>\n    </tr>\n    <tr>\n      <th>12749.0</th>\n      <td>199</td>\n      <td>1471</td>\n      <td>4090.88</td>\n      <td>209</td>\n      <td>20.557186</td>\n      <td>204.5440</td>\n    </tr>\n    <tr>\n      <th>12820.0</th>\n      <td>59</td>\n      <td>722</td>\n      <td>942.34</td>\n      <td>323</td>\n      <td>15.971864</td>\n      <td>47.1170</td>\n    </tr>\n  </tbody>\n</table>\n</div>"
     },
     "execution_count": 34,
     "metadata": {},
     "output_type": "execute_result"
    }
   ],
   "source": [
    "uk_data_group.head()\n"
   ],
   "metadata": {
    "collapsed": false
   }
  },
  {
   "cell_type": "markdown",
   "source": [
    "5. Calcualte Customer Lifetime Value"
   ],
   "metadata": {
    "collapsed": false
   }
  },
  {
   "cell_type": "code",
   "execution_count": 35,
   "outputs": [],
   "source": [
    "# Customer Value\n",
    "uk_data_group['CLV']=(uk_data_group['avg_order_value']*purchase_frequency)/churn_rate\n"
   ],
   "metadata": {
    "collapsed": false
   }
  },
  {
   "cell_type": "code",
   "execution_count": 36,
   "outputs": [],
   "source": [
    "#Customer Lifetime Value\n",
    "uk_data_group['cust_lifetime_value']=uk_data_group['CLV']*uk_data_group['profit_margin']\n"
   ],
   "metadata": {
    "collapsed": false
   }
  },
  {
   "cell_type": "code",
   "execution_count": 37,
   "outputs": [
    {
     "data": {
      "text/plain": "            num_transactions  num_units  spent_money  num_days  \\\nCustomerID                                                       \n12346.0                    1      74215     77183.60         0   \n12747.0                  103       1275      4196.01       366   \n12748.0                 4596      25748     33719.73       372   \n12749.0                  199       1471      4090.88       209   \n12820.0                   59        722       942.34       323   \n\n            avg_order_value  profit_margin           CLV  cust_lifetime_value  \nCustomerID                                                                     \n12346.0        77183.600000      3859.1800  3.852060e+08         1.486579e+12  \n12747.0           40.737961       209.8005  2.033140e+05         4.265538e+07  \n12748.0            7.336756      1685.9865  3.661610e+04         6.173424e+07  \n12749.0           20.557186       204.5440  1.025963e+05         2.098545e+07  \n12820.0           15.971864        47.1170  7.971198e+04         3.755789e+06  ",
      "text/html": "<div>\n<style scoped>\n    .dataframe tbody tr th:only-of-type {\n        vertical-align: middle;\n    }\n\n    .dataframe tbody tr th {\n        vertical-align: top;\n    }\n\n    .dataframe thead th {\n        text-align: right;\n    }\n</style>\n<table border=\"1\" class=\"dataframe\">\n  <thead>\n    <tr style=\"text-align: right;\">\n      <th></th>\n      <th>num_transactions</th>\n      <th>num_units</th>\n      <th>spent_money</th>\n      <th>num_days</th>\n      <th>avg_order_value</th>\n      <th>profit_margin</th>\n      <th>CLV</th>\n      <th>cust_lifetime_value</th>\n    </tr>\n    <tr>\n      <th>CustomerID</th>\n      <th></th>\n      <th></th>\n      <th></th>\n      <th></th>\n      <th></th>\n      <th></th>\n      <th></th>\n      <th></th>\n    </tr>\n  </thead>\n  <tbody>\n    <tr>\n      <th>12346.0</th>\n      <td>1</td>\n      <td>74215</td>\n      <td>77183.60</td>\n      <td>0</td>\n      <td>77183.600000</td>\n      <td>3859.1800</td>\n      <td>3.852060e+08</td>\n      <td>1.486579e+12</td>\n    </tr>\n    <tr>\n      <th>12747.0</th>\n      <td>103</td>\n      <td>1275</td>\n      <td>4196.01</td>\n      <td>366</td>\n      <td>40.737961</td>\n      <td>209.8005</td>\n      <td>2.033140e+05</td>\n      <td>4.265538e+07</td>\n    </tr>\n    <tr>\n      <th>12748.0</th>\n      <td>4596</td>\n      <td>25748</td>\n      <td>33719.73</td>\n      <td>372</td>\n      <td>7.336756</td>\n      <td>1685.9865</td>\n      <td>3.661610e+04</td>\n      <td>6.173424e+07</td>\n    </tr>\n    <tr>\n      <th>12749.0</th>\n      <td>199</td>\n      <td>1471</td>\n      <td>4090.88</td>\n      <td>209</td>\n      <td>20.557186</td>\n      <td>204.5440</td>\n      <td>1.025963e+05</td>\n      <td>2.098545e+07</td>\n    </tr>\n    <tr>\n      <th>12820.0</th>\n      <td>59</td>\n      <td>722</td>\n      <td>942.34</td>\n      <td>323</td>\n      <td>15.971864</td>\n      <td>47.1170</td>\n      <td>7.971198e+04</td>\n      <td>3.755789e+06</td>\n    </tr>\n  </tbody>\n</table>\n</div>"
     },
     "execution_count": 37,
     "metadata": {},
     "output_type": "execute_result"
    }
   ],
   "source": [
    "uk_data_group.head()\n"
   ],
   "metadata": {
    "collapsed": false
   }
  },
  {
   "cell_type": "markdown",
   "source": [
    "Prediction Model for CLTV"
   ],
   "metadata": {
    "collapsed": false
   }
  },
  {
   "cell_type": "markdown",
   "source": [
    "Let's build the CLTV prediction model.\n",
    "\n",
    "Here, you are going to predict CLTV using Linear Regression Model.\n",
    "\n",
    "Let's first use the data loaded and filtered above."
   ],
   "metadata": {
    "collapsed": false
   }
  },
  {
   "cell_type": "code",
   "execution_count": 38,
   "outputs": [
    {
     "data": {
      "text/plain": "   CustomerID         InvoiceDate InvoiceNo  Quantity  UnitPrice  \\\n0     17850.0 2010-12-01 08:26:00    536365         6       2.55   \n1     17850.0 2010-12-01 08:26:00    536365         6       3.39   \n2     17850.0 2010-12-01 08:26:00    536365         8       2.75   \n3     17850.0 2010-12-01 08:26:00    536365         6       3.39   \n4     17850.0 2010-12-01 08:26:00    536365         6       3.39   \n\n   TotalPurchase  \n0          15.30  \n1          20.34  \n2          22.00  \n3          20.34  \n4          20.34  ",
      "text/html": "<div>\n<style scoped>\n    .dataframe tbody tr th:only-of-type {\n        vertical-align: middle;\n    }\n\n    .dataframe tbody tr th {\n        vertical-align: top;\n    }\n\n    .dataframe thead th {\n        text-align: right;\n    }\n</style>\n<table border=\"1\" class=\"dataframe\">\n  <thead>\n    <tr style=\"text-align: right;\">\n      <th></th>\n      <th>CustomerID</th>\n      <th>InvoiceDate</th>\n      <th>InvoiceNo</th>\n      <th>Quantity</th>\n      <th>UnitPrice</th>\n      <th>TotalPurchase</th>\n    </tr>\n  </thead>\n  <tbody>\n    <tr>\n      <th>0</th>\n      <td>17850.0</td>\n      <td>2010-12-01 08:26:00</td>\n      <td>536365</td>\n      <td>6</td>\n      <td>2.55</td>\n      <td>15.30</td>\n    </tr>\n    <tr>\n      <th>1</th>\n      <td>17850.0</td>\n      <td>2010-12-01 08:26:00</td>\n      <td>536365</td>\n      <td>6</td>\n      <td>3.39</td>\n      <td>20.34</td>\n    </tr>\n    <tr>\n      <th>2</th>\n      <td>17850.0</td>\n      <td>2010-12-01 08:26:00</td>\n      <td>536365</td>\n      <td>8</td>\n      <td>2.75</td>\n      <td>22.00</td>\n    </tr>\n    <tr>\n      <th>3</th>\n      <td>17850.0</td>\n      <td>2010-12-01 08:26:00</td>\n      <td>536365</td>\n      <td>6</td>\n      <td>3.39</td>\n      <td>20.34</td>\n    </tr>\n    <tr>\n      <th>4</th>\n      <td>17850.0</td>\n      <td>2010-12-01 08:26:00</td>\n      <td>536365</td>\n      <td>6</td>\n      <td>3.39</td>\n      <td>20.34</td>\n    </tr>\n  </tbody>\n</table>\n</div>"
     },
     "execution_count": 38,
     "metadata": {},
     "output_type": "execute_result"
    }
   ],
   "source": [
    "uk_data.head()\n"
   ],
   "metadata": {
    "collapsed": false
   }
  },
  {
   "cell_type": "code",
   "execution_count": 39,
   "outputs": [],
   "source": [
    "uk_data['month_yr'] = uk_data['InvoiceDate'].apply(lambda x: x.strftime('%b-%Y'))\n"
   ],
   "metadata": {
    "collapsed": false
   }
  },
  {
   "cell_type": "code",
   "execution_count": 40,
   "outputs": [
    {
     "data": {
      "text/plain": "   CustomerID         InvoiceDate InvoiceNo  Quantity  UnitPrice  \\\n0     17850.0 2010-12-01 08:26:00    536365         6       2.55   \n1     17850.0 2010-12-01 08:26:00    536365         6       3.39   \n2     17850.0 2010-12-01 08:26:00    536365         8       2.75   \n3     17850.0 2010-12-01 08:26:00    536365         6       3.39   \n4     17850.0 2010-12-01 08:26:00    536365         6       3.39   \n\n   TotalPurchase  month_yr  \n0          15.30  Dec-2010  \n1          20.34  Dec-2010  \n2          22.00  Dec-2010  \n3          20.34  Dec-2010  \n4          20.34  Dec-2010  ",
      "text/html": "<div>\n<style scoped>\n    .dataframe tbody tr th:only-of-type {\n        vertical-align: middle;\n    }\n\n    .dataframe tbody tr th {\n        vertical-align: top;\n    }\n\n    .dataframe thead th {\n        text-align: right;\n    }\n</style>\n<table border=\"1\" class=\"dataframe\">\n  <thead>\n    <tr style=\"text-align: right;\">\n      <th></th>\n      <th>CustomerID</th>\n      <th>InvoiceDate</th>\n      <th>InvoiceNo</th>\n      <th>Quantity</th>\n      <th>UnitPrice</th>\n      <th>TotalPurchase</th>\n      <th>month_yr</th>\n    </tr>\n  </thead>\n  <tbody>\n    <tr>\n      <th>0</th>\n      <td>17850.0</td>\n      <td>2010-12-01 08:26:00</td>\n      <td>536365</td>\n      <td>6</td>\n      <td>2.55</td>\n      <td>15.30</td>\n      <td>Dec-2010</td>\n    </tr>\n    <tr>\n      <th>1</th>\n      <td>17850.0</td>\n      <td>2010-12-01 08:26:00</td>\n      <td>536365</td>\n      <td>6</td>\n      <td>3.39</td>\n      <td>20.34</td>\n      <td>Dec-2010</td>\n    </tr>\n    <tr>\n      <th>2</th>\n      <td>17850.0</td>\n      <td>2010-12-01 08:26:00</td>\n      <td>536365</td>\n      <td>8</td>\n      <td>2.75</td>\n      <td>22.00</td>\n      <td>Dec-2010</td>\n    </tr>\n    <tr>\n      <th>3</th>\n      <td>17850.0</td>\n      <td>2010-12-01 08:26:00</td>\n      <td>536365</td>\n      <td>6</td>\n      <td>3.39</td>\n      <td>20.34</td>\n      <td>Dec-2010</td>\n    </tr>\n    <tr>\n      <th>4</th>\n      <td>17850.0</td>\n      <td>2010-12-01 08:26:00</td>\n      <td>536365</td>\n      <td>6</td>\n      <td>3.39</td>\n      <td>20.34</td>\n      <td>Dec-2010</td>\n    </tr>\n  </tbody>\n</table>\n</div>"
     },
     "execution_count": 40,
     "metadata": {},
     "output_type": "execute_result"
    }
   ],
   "source": [
    "uk_data.head()"
   ],
   "metadata": {
    "collapsed": false
   }
  },
  {
   "cell_type": "code",
   "execution_count": 41,
   "outputs": [],
   "source": [
    "sale=uk_data.pivot_table(index=['CustomerID'],columns=['month_yr'],values='TotalPurchase',aggfunc='sum',fill_value=0).reset_index()\n"
   ],
   "metadata": {
    "collapsed": false
   }
  },
  {
   "cell_type": "code",
   "execution_count": 42,
   "outputs": [
    {
     "data": {
      "text/plain": "month_yr  CustomerID  Apr-2011  Aug-2011  Dec-2010  Dec-2011  Feb-2011  \\\n0            12346.0      0.00      0.00      0.00      0.00      0.00   \n1            12747.0      0.00    301.70    706.27    438.50      0.00   \n2            12748.0   1100.37    898.24   4228.13   1070.27    389.64   \n3            12749.0      0.00   1896.13      0.00    763.06      0.00   \n4            12820.0      0.00      0.00      0.00    210.35      0.00   \n\nmonth_yr  Jan-2011  Jul-2011  Jun-2011  Mar-2011  May-2011  Nov-2011  \\\n0         77183.60      0.00      0.00      0.00      0.00      0.00   \n1           303.04      0.00    376.30    310.78    771.31    312.73   \n2           418.77   1113.27   2006.26   1179.37   2234.50  10639.23   \n3             0.00      0.00      0.00      0.00    859.10    572.59   \n4           170.46      0.00      0.00      0.00      0.00      0.00   \n\nmonth_yr  Oct-2011  Sep-2011  \n0             0.00      0.00  \n1           675.38      0.00  \n2          2292.84   6148.84  \n3             0.00      0.00  \n4           343.76    217.77  ",
      "text/html": "<div>\n<style scoped>\n    .dataframe tbody tr th:only-of-type {\n        vertical-align: middle;\n    }\n\n    .dataframe tbody tr th {\n        vertical-align: top;\n    }\n\n    .dataframe thead th {\n        text-align: right;\n    }\n</style>\n<table border=\"1\" class=\"dataframe\">\n  <thead>\n    <tr style=\"text-align: right;\">\n      <th>month_yr</th>\n      <th>CustomerID</th>\n      <th>Apr-2011</th>\n      <th>Aug-2011</th>\n      <th>Dec-2010</th>\n      <th>Dec-2011</th>\n      <th>Feb-2011</th>\n      <th>Jan-2011</th>\n      <th>Jul-2011</th>\n      <th>Jun-2011</th>\n      <th>Mar-2011</th>\n      <th>May-2011</th>\n      <th>Nov-2011</th>\n      <th>Oct-2011</th>\n      <th>Sep-2011</th>\n    </tr>\n  </thead>\n  <tbody>\n    <tr>\n      <th>0</th>\n      <td>12346.0</td>\n      <td>0.00</td>\n      <td>0.00</td>\n      <td>0.00</td>\n      <td>0.00</td>\n      <td>0.00</td>\n      <td>77183.60</td>\n      <td>0.00</td>\n      <td>0.00</td>\n      <td>0.00</td>\n      <td>0.00</td>\n      <td>0.00</td>\n      <td>0.00</td>\n      <td>0.00</td>\n    </tr>\n    <tr>\n      <th>1</th>\n      <td>12747.0</td>\n      <td>0.00</td>\n      <td>301.70</td>\n      <td>706.27</td>\n      <td>438.50</td>\n      <td>0.00</td>\n      <td>303.04</td>\n      <td>0.00</td>\n      <td>376.30</td>\n      <td>310.78</td>\n      <td>771.31</td>\n      <td>312.73</td>\n      <td>675.38</td>\n      <td>0.00</td>\n    </tr>\n    <tr>\n      <th>2</th>\n      <td>12748.0</td>\n      <td>1100.37</td>\n      <td>898.24</td>\n      <td>4228.13</td>\n      <td>1070.27</td>\n      <td>389.64</td>\n      <td>418.77</td>\n      <td>1113.27</td>\n      <td>2006.26</td>\n      <td>1179.37</td>\n      <td>2234.50</td>\n      <td>10639.23</td>\n      <td>2292.84</td>\n      <td>6148.84</td>\n    </tr>\n    <tr>\n      <th>3</th>\n      <td>12749.0</td>\n      <td>0.00</td>\n      <td>1896.13</td>\n      <td>0.00</td>\n      <td>763.06</td>\n      <td>0.00</td>\n      <td>0.00</td>\n      <td>0.00</td>\n      <td>0.00</td>\n      <td>0.00</td>\n      <td>859.10</td>\n      <td>572.59</td>\n      <td>0.00</td>\n      <td>0.00</td>\n    </tr>\n    <tr>\n      <th>4</th>\n      <td>12820.0</td>\n      <td>0.00</td>\n      <td>0.00</td>\n      <td>0.00</td>\n      <td>210.35</td>\n      <td>0.00</td>\n      <td>170.46</td>\n      <td>0.00</td>\n      <td>0.00</td>\n      <td>0.00</td>\n      <td>0.00</td>\n      <td>0.00</td>\n      <td>343.76</td>\n      <td>217.77</td>\n    </tr>\n  </tbody>\n</table>\n</div>"
     },
     "execution_count": 42,
     "metadata": {},
     "output_type": "execute_result"
    }
   ],
   "source": [
    "sale.head()\n"
   ],
   "metadata": {
    "collapsed": false
   }
  },
  {
   "cell_type": "code",
   "execution_count": 43,
   "outputs": [],
   "source": [
    "sale['CLV']=sale.iloc[:,2:].sum(axis=1)\n"
   ],
   "metadata": {
    "collapsed": false
   }
  },
  {
   "cell_type": "code",
   "execution_count": 44,
   "outputs": [
    {
     "data": {
      "text/plain": "month_yr  CustomerID  Apr-2011  Aug-2011  Dec-2010  Dec-2011  Feb-2011  \\\n0            12346.0      0.00      0.00      0.00      0.00      0.00   \n1            12747.0      0.00    301.70    706.27    438.50      0.00   \n2            12748.0   1100.37    898.24   4228.13   1070.27    389.64   \n3            12749.0      0.00   1896.13      0.00    763.06      0.00   \n4            12820.0      0.00      0.00      0.00    210.35      0.00   \n\nmonth_yr  Jan-2011  Jul-2011  Jun-2011  Mar-2011  May-2011  Nov-2011  \\\n0         77183.60      0.00      0.00      0.00      0.00      0.00   \n1           303.04      0.00    376.30    310.78    771.31    312.73   \n2           418.77   1113.27   2006.26   1179.37   2234.50  10639.23   \n3             0.00      0.00      0.00      0.00    859.10    572.59   \n4           170.46      0.00      0.00      0.00      0.00      0.00   \n\nmonth_yr  Oct-2011  Sep-2011       CLV  \n0             0.00      0.00  77183.60  \n1           675.38      0.00   4196.01  \n2          2292.84   6148.84  32619.36  \n3             0.00      0.00   4090.88  \n4           343.76    217.77    942.34  ",
      "text/html": "<div>\n<style scoped>\n    .dataframe tbody tr th:only-of-type {\n        vertical-align: middle;\n    }\n\n    .dataframe tbody tr th {\n        vertical-align: top;\n    }\n\n    .dataframe thead th {\n        text-align: right;\n    }\n</style>\n<table border=\"1\" class=\"dataframe\">\n  <thead>\n    <tr style=\"text-align: right;\">\n      <th>month_yr</th>\n      <th>CustomerID</th>\n      <th>Apr-2011</th>\n      <th>Aug-2011</th>\n      <th>Dec-2010</th>\n      <th>Dec-2011</th>\n      <th>Feb-2011</th>\n      <th>Jan-2011</th>\n      <th>Jul-2011</th>\n      <th>Jun-2011</th>\n      <th>Mar-2011</th>\n      <th>May-2011</th>\n      <th>Nov-2011</th>\n      <th>Oct-2011</th>\n      <th>Sep-2011</th>\n      <th>CLV</th>\n    </tr>\n  </thead>\n  <tbody>\n    <tr>\n      <th>0</th>\n      <td>12346.0</td>\n      <td>0.00</td>\n      <td>0.00</td>\n      <td>0.00</td>\n      <td>0.00</td>\n      <td>0.00</td>\n      <td>77183.60</td>\n      <td>0.00</td>\n      <td>0.00</td>\n      <td>0.00</td>\n      <td>0.00</td>\n      <td>0.00</td>\n      <td>0.00</td>\n      <td>0.00</td>\n      <td>77183.60</td>\n    </tr>\n    <tr>\n      <th>1</th>\n      <td>12747.0</td>\n      <td>0.00</td>\n      <td>301.70</td>\n      <td>706.27</td>\n      <td>438.50</td>\n      <td>0.00</td>\n      <td>303.04</td>\n      <td>0.00</td>\n      <td>376.30</td>\n      <td>310.78</td>\n      <td>771.31</td>\n      <td>312.73</td>\n      <td>675.38</td>\n      <td>0.00</td>\n      <td>4196.01</td>\n    </tr>\n    <tr>\n      <th>2</th>\n      <td>12748.0</td>\n      <td>1100.37</td>\n      <td>898.24</td>\n      <td>4228.13</td>\n      <td>1070.27</td>\n      <td>389.64</td>\n      <td>418.77</td>\n      <td>1113.27</td>\n      <td>2006.26</td>\n      <td>1179.37</td>\n      <td>2234.50</td>\n      <td>10639.23</td>\n      <td>2292.84</td>\n      <td>6148.84</td>\n      <td>32619.36</td>\n    </tr>\n    <tr>\n      <th>3</th>\n      <td>12749.0</td>\n      <td>0.00</td>\n      <td>1896.13</td>\n      <td>0.00</td>\n      <td>763.06</td>\n      <td>0.00</td>\n      <td>0.00</td>\n      <td>0.00</td>\n      <td>0.00</td>\n      <td>0.00</td>\n      <td>859.10</td>\n      <td>572.59</td>\n      <td>0.00</td>\n      <td>0.00</td>\n      <td>4090.88</td>\n    </tr>\n    <tr>\n      <th>4</th>\n      <td>12820.0</td>\n      <td>0.00</td>\n      <td>0.00</td>\n      <td>0.00</td>\n      <td>210.35</td>\n      <td>0.00</td>\n      <td>170.46</td>\n      <td>0.00</td>\n      <td>0.00</td>\n      <td>0.00</td>\n      <td>0.00</td>\n      <td>0.00</td>\n      <td>343.76</td>\n      <td>217.77</td>\n      <td>942.34</td>\n    </tr>\n  </tbody>\n</table>\n</div>"
     },
     "execution_count": 44,
     "metadata": {},
     "output_type": "execute_result"
    }
   ],
   "source": [
    "sale.head()\n"
   ],
   "metadata": {
    "collapsed": false
   }
  },
  {
   "cell_type": "code",
   "execution_count": 45,
   "outputs": [],
   "source": [
    "X=sale[['Dec-2011','Nov-2011', 'Oct-2011','Sep-2011','Aug-2011','Jul-2011']]\n",
    "y=sale[['CLV']]\n"
   ],
   "metadata": {
    "collapsed": false
   }
  },
  {
   "cell_type": "markdown",
   "source": [
    "Splitting Data\n",
    "To understand model performance, dividing the dataset into a training set and a test set is a good strategy.\n",
    "\n",
    "Let's split dataset by using function train_test_split(). You need to pass 3 parameters features, target, and test_set size. Additionally, you can use random_state as a seed value to maintain reproducibility, which means whenever you split the data will not affect the results. Also, if random_state is None, then random number generator uses np.random for selecting records randomly. It means If you don't set a seed, it is different each time.\n",
    "\n",
    "#split training set and test set"
   ],
   "metadata": {
    "collapsed": false
   }
  },
  {
   "cell_type": "code",
   "execution_count": 51,
   "outputs": [],
   "source": [
    "#split training set and test set\n",
    "from sklearn.model_selection import train_test_split\n",
    "X_train, X_test, y_train, y_test = train_test_split(X, y,random_state=0)\n"
   ],
   "metadata": {
    "collapsed": false
   }
  },
  {
   "cell_type": "markdown",
   "source": [
    "Model Development\n",
    "First, import the Linear Regression module and create a Linear Regression object. Then, fit your model on the train set using fit() function and perform prediction on the test set using predict() function."
   ],
   "metadata": {
    "collapsed": false
   }
  },
  {
   "cell_type": "code",
   "execution_count": 52,
   "outputs": [],
   "source": [
    "# import model\n",
    "from sklearn.linear_model import LinearRegression\n",
    "\n",
    "# instantiate\n",
    "linreg = LinearRegression()\n",
    "\n",
    "# fit the model to the training data (learn the coefficients)\n",
    "linreg.fit(X_train, y_train)\n",
    "\n",
    "# make predictions on the testing set\n",
    "y_pred = linreg.predict(X_test)\n"
   ],
   "metadata": {
    "collapsed": false
   }
  },
  {
   "cell_type": "code",
   "execution_count": 53,
   "outputs": [
    {
     "name": "stdout",
     "output_type": "stream",
     "text": [
      "[208.50969617]\n",
      "[[0.99880551 0.80381254 1.60226829 1.67433228 1.52860813 2.87959449]]\n"
     ]
    }
   ],
   "source": [
    "# print the intercept and coefficients\n",
    "print(linreg.intercept_)\n",
    "print(linreg.coef_)\n"
   ],
   "metadata": {
    "collapsed": false
   }
  },
  {
   "cell_type": "markdown",
   "source": [
    "How Well Does the Model Fit the data?\n",
    "In order to evaluate the overall fit of the linear model, we use the R-squared value. R-squared is the proportion of variance explained by the model. Value of R-squared lies between 0 and 1. Higher value or R-squared is considered better because it indicates the larger variance explained by the model."
   ],
   "metadata": {
    "collapsed": false
   }
  },
  {
   "cell_type": "code",
   "execution_count": 54,
   "outputs": [
    {
     "name": "stdout",
     "output_type": "stream",
     "text": [
      "R-Square: 0.9666074402817512\n"
     ]
    }
   ],
   "source": [
    "    from sklearn import metrics\n",
    "# compute the R Square for model\n",
    "print(\"R-Square:\",metrics.r2_score(y_test, y_pred))"
   ],
   "metadata": {
    "collapsed": false
   }
  },
  {
   "cell_type": "markdown",
   "source": [
    "This model has a higher R-squared (0.96). This model provides a better fit to the data.\n",
    "\n",
    "Model Evaluation\n",
    "For regression problems following evaluation metrics used (Ritchie Ng):\n",
    "\n",
    "Mean Absolute Error (MAE) is the mean of the absolute value of the errors.\n",
    "Mean Squared Error (MSE) is the mean of the squared errors.\n",
    "Root Mean Squared Error (RMSE) is the square root of the mean of the squared errors."
   ],
   "metadata": {
    "collapsed": false
   }
  },
  {
   "cell_type": "code",
   "execution_count": 55,
   "outputs": [
    {
     "name": "stdout",
     "output_type": "stream",
     "text": [
      "MAE: 595.0282284701226\n",
      "MSE 2114139.889867895\n",
      "RMSE: 1454.0082151995891\n"
     ]
    }
   ],
   "source": [
    "# calculate MAE using scikit-learn\n",
    "print(\"MAE:\",metrics.mean_absolute_error(y_test,y_pred))\n",
    "\n",
    "#calculate mean squared error\n",
    "print(\"MSE\",metrics.mean_squared_error(y_test, y_pred))\n",
    "# compute the RMSE of our predictions\n",
    "print(\"RMSE:\",np.sqrt(metrics.mean_squared_error(y_test, y_pred)))\n"
   ],
   "metadata": {
    "collapsed": false
   }
  },
  {
   "cell_type": "markdown",
   "source": [
    "RMSE is more popular than MSE and MAE because RMSE is interpretable with y because of the same units."
   ],
   "metadata": {
    "collapsed": false
   }
  },
  {
   "cell_type": "markdown",
   "source": [
    "Pros and Cons of CLTV"
   ],
   "metadata": {
    "collapsed": false
   }
  },
  {
   "cell_type": "markdown",
   "source": [
    "CLTV helps you to design an effective business plan and also provide a chance to scale your business. CLTV draw meaningful customer segments these segment can help you to identify needs of the different-different segment.\n",
    "\n",
    "Customer Lifetime Value is a tool, not a strategy. CLTV can figure out most profitable customers, but how you are going to make a profit from them, it depends on your strategy. Generally, CLTV models are confused and misused. Obsession with CLTV may create blinders. Companies only focus on finding the best customer group and focusing on them and repeat the business, but it’s also important to give attention to other customers."
   ],
   "metadata": {
    "collapsed": false
   }
  },
  {
   "cell_type": "markdown",
   "source": [
    "Conclusion\n",
    "Congratulations, you have made it to the end of this tutorial!\n",
    "\n",
    "In this tutorial, you have covered a lot of details about Customer Lifetime Value. You have learned what customer lifetime value is, approaches for calculating CLTV, implementation of CLTV from scratch in python, a prediction model for CLTV, and Pros and Cons of CLTV. Also, you covered some basic concepts of pandas such as groupby and pivot table for summarizing selected columns and rows of data.\n",
    "\n",
    "Hopefully, you can now utilize CLTV concept to analyze your own datasets. Thanks for reading this tutorial!"
   ],
   "metadata": {
    "collapsed": false
   }
  }
 ],
 "metadata": {
  "kernelspec": {
   "display_name": "Python 3",
   "language": "python",
   "name": "python3"
  },
  "language_info": {
   "codemirror_mode": {
    "name": "ipython",
    "version": 2
   },
   "file_extension": ".py",
   "mimetype": "text/x-python",
   "name": "python",
   "nbconvert_exporter": "python",
   "pygments_lexer": "ipython2",
   "version": "2.7.6"
  }
 },
 "nbformat": 4,
 "nbformat_minor": 0
}
